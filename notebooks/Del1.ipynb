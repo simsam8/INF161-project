{
 "cells": [
  {
   "cell_type": "code",
   "execution_count": 1,
   "id": "7ad7998b-6dd5-4e3e-867a-61b79930a3b3",
   "metadata": {},
   "outputs": [],
   "source": [
    "import pandas as pd\n",
    "import numpy as np\n",
    "\n",
    "## Funksjon for å rengjøre trafikkdata"
   ]
  },
  {
   "cell_type": "code",
   "execution_count": 2,
   "id": "8898b3c0-9b30-40ce-9301-9f8268d60ba1",
   "metadata": {
    "editable": true,
    "slideshow": {
     "slide_type": ""
    },
    "tags": []
   },
   "outputs": [],
   "source": [
    "def clean_trafikkdata(filepath: str) -> pd.DataFrame:\n",
    "    \"\"\"\n",
    "    Cleans traffic data.\n",
    "    Removes unnecessary columns and sets datetime index.\n",
    "    Creates a column with \"Total Trafikkmengde\"\n",
    "    \n",
    "    return: Dataframe\n",
    "    \"\"\"\n",
    "    \n",
    "    # Leser traffikkdata, bruker midlertidige kolonne navn, og bruker regex for flere seperatorer\n",
    "    temp_col_names = [str(i) for i in range(24)]\n",
    "    raw_df = pd.read_csv(filepath, names=temp_col_names, sep=r\";|\\|\", engine=\"python\")\n",
    "    #raw_df.to_csv(\"raw.csv\")\n",
    "\n",
    "    # Setter faktiske kolonne navn\n",
    "    raw_df.columns = raw_df.iloc[0]\n",
    "    raw_df = raw_df.iloc[1:]\n",
    "\n",
    "    # Fjerner unødvendige kolonner\n",
    "    to_drop = [\"Trafikkregistreringspunkt\", \"Navn\", \"Vegreferanse\", \"Fra\", \"Til\", \"Til tidspunkt\", \"Dekningsgrad (%)\", \"Antall timer total\", \"Antall timer inkludert\", \"Antall timer ugyldig\", \"Lengdekvalitetsgrad (%)\", \"Ikke gyldig lengde\", \"< 5,6m\", \">= 5,6m\", \"5,6m - 7,6m\", \"7,6m - 12,5m\", \"12,5m - 16,0m\", \">= 16,0m\", \"16,0m - 24,0m\", \">= 24,0m\"]\n",
    "    trafikk_df = raw_df.drop(columns=to_drop)\n",
    "    \n",
    "    # Henter rader med 'Totalt' i kolonne 'Felt' og fjerner resten.\n",
    "    # Dropper 'Felt' kolonnen og lager kolonne for total trafikkmengde\n",
    "    trafikk_df = trafikk_df.where(trafikk_df[\"Felt\"] == \"Totalt\", inplace=False)#.dropna()\n",
    "    trafikk_df = trafikk_df.drop(columns=[\"Felt\"])\n",
    "    trafikk_df = trafikk_df.rename(columns={\"Trafikkmengde\": \"Total Trafikkmengde\"})\n",
    "    trafikk_df = trafikk_df[trafikk_df[\"Dato\"].notna()]\n",
    "\n",
    "    # Setter datatype\n",
    "    trafikk_df[\"Total Trafikkmengde\"] = trafikk_df[\"Total Trafikkmengde\"].replace(\n",
    "        \"-\", np.nan\n",
    "    )\n",
    "    #trafikk_df[\"Total Trafikkmengde\"] = trafikk_df[\"Total Trafikkmengde\"].astype(\n",
    "    #    int\n",
    "    #)\n",
    "\n",
    "    \n",
    "    trafikk_df[\"Total Trafikkmengde\"] = trafikk_df[\"Total Trafikkmengde\"].replace(\"-\", np.nan)\n",
    "    \n",
    "    trafikk_df[\"Datetime\"] = pd.to_datetime(trafikk_df[\"Dato\"].astype(str) + ' ' + trafikk_df[\"Fra tidspunkt\"].astype(str))\n",
    "\n",
    "    # Dropper duplikater der klokken blir stilt tilbake\n",
    "    # Jeg fjerner radene som blir stilt tilbake\n",
    "    #print(trafikk_df[trafikk_df.duplicated([\"Datetime\"])])\n",
    "    trafikk_df = trafikk_df.drop_duplicates([\"Datetime\"], keep=\"first\")\n",
    "    #print(trafikk_df[trafikk_df.duplicated([\"Datetime\"])])\n",
    "    trafikk_df = trafikk_df.drop(columns=[\"Dato\", \"Fra tidspunkt\"])\n",
    "    trafikk_df.set_index(\"Datetime\", inplace=True)\n",
    "    \n",
    "    return trafikk_df"
   ]
  },
  {
   "cell_type": "markdown",
   "id": "ea3638aa-a83a-427f-86f3-021f5187d748",
   "metadata": {},
   "source": [
    "## Klargjør værdata"
   ]
  },
  {
   "cell_type": "code",
   "execution_count": 3,
   "id": "43d22b37-1991-4fa7-b54e-726c796a829f",
   "metadata": {},
   "outputs": [],
   "source": [
    "import os\n"
   ]
  },
  {
   "cell_type": "code",
   "execution_count": 4,
   "id": "f950d82e-e0d6-4352-914e-394b82c8fcea",
   "metadata": {},
   "outputs": [],
   "source": [
    "def clean_weather_data(data_folder: str) -> pd.DataFrame:\n",
    "    \"\"\"\n",
    "    Combines all weather data into one dataframe.\n",
    "    Cleans and resamples data into 1H intervals.\n",
    "\n",
    "    return: DataFrame\n",
    "    \"\"\"\n",
    "\n",
    "    work_dir = os.getcwd()\n",
    "    data_dir = os.path.join(work_dir, data_folder)\n",
    "    csv_files = [f\"{data_folder}/{f}\" for f in os.listdir(data_dir) if f.startswith(\"Florida\")]\n",
    "\n",
    "    data_frames = []\n",
    "    for f in csv_files:\n",
    "        data_frames.append(pd.read_csv(f))\n",
    "\n",
    "    df = pd.concat(data_frames)\n",
    "    \n",
    "    # Kombinerer kolonnene Dato og Tid, og sorterer etter dato  \n",
    "    df[\"Datetime\"] = pd.to_datetime(df[\"Dato\"].astype(str) + ' ' + df[\"Tid\"].astype(str))\n",
    "    df = df.drop(columns=[\"Dato\", \"Tid\"])\n",
    "    df.set_index(\"Datetime\", inplace=True)\n",
    "    df = df.sort_values([\"Datetime\"])\n",
    "\n",
    "    # Setter manglende verdier til Nan\n",
    "    df = df.replace(9999.99, np.nan)\n",
    "\n",
    "    # Setter negative verdier til 0 i globalstråling\n",
    "    df[\"Globalstraling\"] = df[\"Globalstraling\"].clip(lower=0)\n",
    "\n",
    "    # Dropper relativluftfuktighet siden har manglende verdier i mesteparten av radene\n",
    "    #df[\"Relativ luftfuktighet\"] = df[\"Relativ luftfuktighet\"].replace(\"\", np.nan)\n",
    "    df = df.drop(columns=[\"Relativ luftfuktighet\"])\n",
    "    \n",
    "    # Resampler værdata til 1t intervaller\n",
    "    df_resampled = df.resample(\"H\").mean()\n",
    "    #print(df_resampled.index.value_counts().count(), df_resampled.shape[0])\n",
    "    return df_resampled"
   ]
  },
  {
   "cell_type": "code",
   "execution_count": 5,
   "id": "2bcf1c3a-d11f-45fb-97d0-cc5b4c3cefa1",
   "metadata": {},
   "outputs": [],
   "source": [
    "def create_dataset(trafikk_df: pd.DataFrame, weather_df: pd.DataFrame) -> pd.DataFrame:\n",
    "    \"\"\"\n",
    "    Combines traffic and weather data\n",
    "\n",
    "    return: DataFrame\n",
    "    \"\"\"\n",
    "    \n",
    "    df = weather_df.merge(trafikk_df, right_index=True, left_index=True)\n",
    "    #print(df.index.value_counts().count(), df.shape[0])\n",
    "    return df"
   ]
  },
  {
   "cell_type": "code",
   "execution_count": 7,
   "id": "0215a566-f233-4246-8e2e-a7b1c6d6fb54",
   "metadata": {},
   "outputs": [],
   "source": [
    "trafikk = clean_trafikkdata(\"raw_data/trafikkdata.csv\")\n",
    "weather = clean_weather_data(\"raw_data\")\n",
    "df = create_dataset(trafikk, weather)\n"
   ]
  },
  {
   "cell_type": "code",
   "execution_count": 8,
   "id": "59779cc0-aa00-4698-ad23-15bd907254a5",
   "metadata": {},
   "outputs": [
    {
     "data": {
      "text/html": [
       "<div>\n",
       "<style scoped>\n",
       "    .dataframe tbody tr th:only-of-type {\n",
       "        vertical-align: middle;\n",
       "    }\n",
       "\n",
       "    .dataframe tbody tr th {\n",
       "        vertical-align: top;\n",
       "    }\n",
       "\n",
       "    .dataframe thead th {\n",
       "        text-align: right;\n",
       "    }\n",
       "</style>\n",
       "<table border=\"1\" class=\"dataframe\">\n",
       "  <thead>\n",
       "    <tr style=\"text-align: right;\">\n",
       "      <th></th>\n",
       "      <th>Total Trafikkmengde</th>\n",
       "    </tr>\n",
       "  </thead>\n",
       "  <tbody>\n",
       "    <tr>\n",
       "      <th>count</th>\n",
       "      <td>65242</td>\n",
       "    </tr>\n",
       "    <tr>\n",
       "      <th>unique</th>\n",
       "      <td>465</td>\n",
       "    </tr>\n",
       "    <tr>\n",
       "      <th>top</th>\n",
       "      <td>0</td>\n",
       "    </tr>\n",
       "    <tr>\n",
       "      <th>freq</th>\n",
       "      <td>4310</td>\n",
       "    </tr>\n",
       "  </tbody>\n",
       "</table>\n",
       "</div>"
      ],
      "text/plain": [
       "0      Total Trafikkmengde\n",
       "count                65242\n",
       "unique                 465\n",
       "top                      0\n",
       "freq                  4310"
      ]
     },
     "execution_count": 8,
     "metadata": {},
     "output_type": "execute_result"
    }
   ],
   "source": [
    "trafikk.describe()"
   ]
  },
  {
   "cell_type": "code",
   "execution_count": null,
   "id": "cbba1cde-477a-4313-9947-9f2f7da1ca23",
   "metadata": {},
   "outputs": [],
   "source": []
  }
 ],
 "metadata": {
  "kernelspec": {
   "display_name": "Python 3 (ipykernel)",
   "language": "python",
   "name": "python3"
  },
  "language_info": {
   "codemirror_mode": {
    "name": "ipython",
    "version": 3
   },
   "file_extension": ".py",
   "mimetype": "text/x-python",
   "name": "python",
   "nbconvert_exporter": "python",
   "pygments_lexer": "ipython3",
   "version": "3.11.5"
  }
 },
 "nbformat": 4,
 "nbformat_minor": 5
}
